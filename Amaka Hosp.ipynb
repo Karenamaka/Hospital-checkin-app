{
 "cells": [
  {
   "cell_type": "code",
   "execution_count": 87,
   "id": "1f810d3e",
   "metadata": {},
   "outputs": [
    {
     "name": "stdout",
     "output_type": "stream",
     "text": [
      "Overwriting hosp.py\n"
     ]
    }
   ],
   "source": [
    "%%writefile hosp.py\n",
    "import streamlit as st\n",
    "from PIL import Image\n",
    "image = Image.open('Hosp.jpeg')\n",
    "\n",
    "st.sidebar.title(\" Cross Hospitals Checkin App\")\n",
    "st.sidebar.image(image,caption = \" \")\n",
    "st.sidebar.error(f'''Welcome to Cross Hospital''')\n",
    "st.sidebar.write(f''' Cross Hospital is a divison of Cross Group of companies.''')\n",
    "st.sidebar.write(f''' The many patients we treat each year prepares us to treat the one who matters most — you.\n",
    "                    When you need answers - Come to us.''')\n",
    "\n",
    "option_list = ['Select','Yes','No']\n",
    "options = st.sidebar.selectbox(\" Is this your first time at Cross Hospital? \",option_list)\n",
    "proceed = st.sidebar.button( \" Proceed\")\n",
    "\n",
    "if options == 'Yes': \n",
    "    st.subheader(\" Registration Form \")\n",
    "    st.write(\" Note all * are compulsory and mus be filled.\")\n",
    "    \n",
    "    col1,col2 = st.columns(2)\n",
    "    with col1:\n",
    "        st.text_input( \"First name * : \")\n",
    "    with col2 :\n",
    "        st.text_input(\" Last name * :\")\n",
    "    col1,col2,col3 = st.columns(3)\n",
    "    with col1 :\n",
    "        st.number_input(\" Age : \")\n",
    "    with col2:\n",
    "        st.number_input(\" Phone no *: \")\n",
    "    with col3:\n",
    "        gender_list= ['Select','Male','Female']\n",
    "        st.selectbox(\" Gender : \", gender_list)\n",
    "    st.text_input( \" Full Address * : \")\n",
    "    st.write(\" Provide your Next of Kin(NOK) details below \")\n",
    "    col1, col2 = st.columns(2)\n",
    "    with col1:\n",
    "        st.text_input(\" NOK's Full name : \")\n",
    "    with col2:\n",
    "        st.number_input(\" NOK's Phone no *: \")\n",
    "    st.text_input(\" NOK's Full Address : \")\n",
    "    submit = st.button(\"Submit\")\n",
    "    if submit :\n",
    "        st.success(\" Form submitted Succesfully \")\n",
    "        st.write(f''' Kindly proceed to Annex B - Accounts Department for Payment. \\n\n",
    "                     Make a registration payment of N2,500 ''')\n",
    "        st.subheader(\" Thank you \")\n",
    "    \n",
    "    \n",
    "elif options == 'No' :\n",
    "    st.title(\"  Welcome to Cross Hospital. \")\n",
    "    st.subheader(\" Input your hospital registration number \")\n",
    "    st.number_input(\" \")\n",
    "    \n",
    "    dept_list = ['Select a department','GOPD','OB-GYN','Pediatrics','Radiology']\n",
    "    st.success(f''' Note - GOPD: General outpatient Department. \\t \n",
    "                    OB-GYN : Obstetrics and Gynaecology''')\n",
    "    dept = st.selectbox(\" Choose the department for visit \", dept_list)\n",
    "    no_submit = st.button(\" Submit \")\n",
    "    if dept == 'GOPD' and no_submit:\n",
    "        st.write(f''' Kindly proceed to the Nursing room at Annex C - Hall 1 for Vitals check. ''')\n",
    "    elif dept == 'OB-GYN' and no_submit :\n",
    "        st.write(f''' Kindly proceed to the Nursing room at Annex B - Hall 2 for Vitals check. ''')\n",
    "    elif dept == 'Pediatrics' and no_submit :\n",
    "        st.write(f''' Kindly proceed to the Nursing room at the Children's Clinic in Annex C - Hall 2 for Vitals check. ''')\n",
    "    elif dept == 'Radiology' and no_submit :\n",
    "        st.write(f''' Kindly proceed to the Nursing room at Annex E - Hall 1 for more Inquiries. ''')\n",
    "    elif dept == 'Select a department' : \n",
    "        image = Image.open('no_page.jpg')\n",
    "        st.image(image,caption = \" \")\n",
    "        \n",
    "    \n",
    "    \n",
    "else:\n",
    "    st.title(\" Welcome to Cross Hospital\")\n",
    "    st.write(f''' Cross Hospital is a divison of Cross Group of companies. \n",
    "                    The many patients we treat each year prepares us to treat the one \n",
    "                    who matters most — you. When you need answers - Come to us.''')\n",
    "    image = Image.open('doctor.jpg')\n",
    "    st.image(image,caption = \" We utilise state-of-the-art technologies and employs a team of true experts. \")\n",
    "    "
   ]
  },
  {
   "cell_type": "code",
   "execution_count": null,
   "id": "2935e0eb",
   "metadata": {},
   "outputs": [],
   "source": []
  },
  {
   "cell_type": "code",
   "execution_count": 88,
   "id": "552c17e5",
   "metadata": {},
   "outputs": [
    {
     "name": "stdout",
     "output_type": "stream",
     "text": [
      "\u001b[0m\n",
      "\u001b[34m\u001b[1m  You can now view your Streamlit app in your browser.\u001b[0m\n",
      "\u001b[0m\n",
      "\u001b[34m  Local URL: \u001b[0m\u001b[1mhttp://localhost:8503\u001b[0m\n",
      "\u001b[34m  Network URL: \u001b[0m\u001b[1mhttp://192.168.21.143:8503\u001b[0m\n",
      "\u001b[0m\n",
      "^C\n",
      "\u001b[34m  Stopping...\u001b[0m\n"
     ]
    }
   ],
   "source": [
    "!streamlit run hosp.py"
   ]
  },
  {
   "cell_type": "code",
   "execution_count": null,
   "id": "c6919045",
   "metadata": {},
   "outputs": [],
   "source": []
  }
 ],
 "metadata": {
  "kernelspec": {
   "display_name": "Python 3",
   "language": "python",
   "name": "python3"
  },
  "language_info": {
   "codemirror_mode": {
    "name": "ipython",
    "version": 3
   },
   "file_extension": ".py",
   "mimetype": "text/x-python",
   "name": "python",
   "nbconvert_exporter": "python",
   "pygments_lexer": "ipython3",
   "version": "3.8.8"
  }
 },
 "nbformat": 4,
 "nbformat_minor": 5
}
